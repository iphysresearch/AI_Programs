{
 "cells": [
  {
   "cell_type": "markdown",
   "metadata": {},
   "source": [
    "## lightGBM使用简介\n",
    "by 寒小阳(hanxiaoyang.ml@gmail.com)"
   ]
  },
  {
   "cell_type": "markdown",
   "metadata": {},
   "source": [
    "#### 结合pandas与sklearn的小例子"
   ]
  },
  {
   "cell_type": "code",
   "execution_count": 1,
   "metadata": {
    "collapsed": false
   },
   "outputs": [
    {
     "name": "stdout",
     "output_type": "stream",
     "text": [
      "Load data...\n",
      "Start training...\n",
      "[1]\tvalid_0's l1: 0.536072\n",
      "Train until valid scores didn't improve in 5 rounds.\n",
      "[2]\tvalid_0's l1: 0.528484\n",
      "[3]\tvalid_0's l1: 0.521163\n",
      "[4]\tvalid_0's l1: 0.514374\n",
      "[5]\tvalid_0's l1: 0.508836\n",
      "[6]\tvalid_0's l1: 0.502996\n",
      "[7]\tvalid_0's l1: 0.497912\n",
      "[8]\tvalid_0's l1: 0.492616\n",
      "[9]\tvalid_0's l1: 0.487243\n",
      "[10]\tvalid_0's l1: 0.482528\n"
     ]
    },
    {
     "name": "stderr",
     "output_type": "stream",
     "text": [
      "/Library/Python/2.7/site-packages/lightgbm-0.1-py2.7.egg/lightgbm/engine.py:163: UserWarning: Using Pandas (default) integer column names, not column indexes. You can use indexes with DataFrame.values.\n",
      "  booster = Booster(params=params, train_set=train_set)\n"
     ]
    },
    {
     "name": "stdout",
     "output_type": "stream",
     "text": [
      "[11]\tvalid_0's l1: 0.478176\n",
      "[12]\tvalid_0's l1: 0.473355\n",
      "[13]\tvalid_0's l1: 0.469354\n",
      "[14]\tvalid_0's l1: 0.465396\n",
      "[15]\tvalid_0's l1: 0.46168\n",
      "[16]\tvalid_0's l1: 0.45808\n",
      "[17]\tvalid_0's l1: 0.454562\n",
      "[18]\tvalid_0's l1: 0.451392\n",
      "[19]\tvalid_0's l1: 0.448304\n",
      "[20]\tvalid_0's l1: 0.445538\n",
      "Start predicting...\n",
      "('The rmse of prediction is:', 0.49226770162247319)\n",
      "Calculate feature importances...\n",
      "('Feature importances:', [0.038333334, 0.015, 0.0033333334, 0.061666667, 0.0066666668, 0.10166667, 0.025, 0.0033333334, 0.0, 0.031666666, 0.0049999999, 0.0083333338, 0.0016666667, 0.036666665, 0.013333334, 0.0066666668, 0.0016666667, 0.015, 0.0, 0.0083333338, 0.0, 0.053333335, 0.094999999, 0.0066666668, 0.086666666, 0.15666667, 0.086666666, 0.13166666])\n"
     ]
    },
    {
     "name": "stderr",
     "output_type": "stream",
     "text": [
      "/Library/Python/2.7/site-packages/ipykernel/__main__.py:31: UserWarning: Using Pandas (default) integer column names, not column indexes. You can use indexes with DataFrame.values.\n",
      "/Library/Python/2.7/site-packages/sklearn/base.py:386: UserWarning: Using Pandas (default) integer column names, not column indexes. You can use indexes with DataFrame.values.\n",
      "  return r2_score(y, self.predict(X), sample_weight=sample_weight,\n"
     ]
    },
    {
     "name": "stdout",
     "output_type": "stream",
     "text": [
      "('Best parameters found by grid search are:', {'n_estimators': 40, 'learning_rate': 0.1})\n"
     ]
    }
   ],
   "source": [
    "# coding: utf-8\n",
    "# pylint: disable = invalid-name, C0111\n",
    "import lightgbm as lgb\n",
    "import pandas as pd\n",
    "from sklearn.metrics import mean_squared_error\n",
    "from sklearn.model_selection import GridSearchCV\n",
    "\n",
    "# 用pandas载入数据集\n",
    "print('Load data...')\n",
    "df_train = pd.read_csv('data/regression.train', header=None, sep='\\t')\n",
    "df_test = pd.read_csv('data/regression.test', header=None, sep='\\t')\n",
    "\n",
    "y_train = df_train[0]\n",
    "y_test = df_test[0]\n",
    "X_train = df_train.drop(0, axis=1)\n",
    "X_test = df_test.drop(0, axis=1)\n",
    "\n",
    "print('Start training...')\n",
    "# 训练\n",
    "gbm = lgb.LGBMRegressor(objective='regression',\n",
    "                        num_leaves=31,\n",
    "                        learning_rate=0.05,\n",
    "                        n_estimators=20)\n",
    "gbm.fit(X_train, y_train,\n",
    "        eval_set=[(X_test, y_test)],\n",
    "        eval_metric='l1',\n",
    "        early_stopping_rounds=5)\n",
    "\n",
    "print('Start predicting...')\n",
    "# 预测\n",
    "y_pred = gbm.predict(X_test, num_iteration=gbm.best_iteration)\n",
    "# 评估\n",
    "print('The rmse of prediction is:', mean_squared_error(y_test, y_pred) ** 0.5)\n",
    "\n",
    "print('Calculate feature importances...')\n",
    "# 输出特征重要度\n",
    "print('Feature importances:', list(gbm.feature_importances_))\n",
    "\n",
    "# 交叉验证与网格搜索\n",
    "estimator = lgb.LGBMRegressor(num_leaves=31)\n",
    "\n",
    "param_grid = {\n",
    "    'learning_rate': [0.01, 0.1, 1],\n",
    "    'n_estimators': [20, 40]\n",
    "}\n",
    "\n",
    "gbm = GridSearchCV(estimator, param_grid)\n",
    "\n",
    "gbm.fit(X_train, y_train)\n",
    "\n",
    "print('Best parameters found by grid search are:', gbm.best_params_)"
   ]
  },
  {
   "cell_type": "markdown",
   "metadata": {},
   "source": [
    "### 可视化"
   ]
  },
  {
   "cell_type": "code",
   "execution_count": 2,
   "metadata": {
    "collapsed": false
   },
   "outputs": [
    {
     "name": "stderr",
     "output_type": "stream",
     "text": [
      "/Library/Python/2.7/site-packages/ipykernel/pylab/config.py:66: DeprecationWarning: metadata {'config': True} was set from the constructor.  Metadata should be set using the .tag() method, e.g., Int().tag(key1='value1', key2='value2')\n",
      "  inline backend.\"\"\"\n",
      "/Library/Python/2.7/site-packages/ipykernel/pylab/config.py:44: DeprecationWarning: InlineBackend._config_changed is deprecated: use @observe and @unobserve instead.\n",
      "  def _config_changed(self, name, old, new):\n",
      "/Library/Python/2.7/site-packages/traitlets/traitlets.py:770: DeprecationWarning: A parent of InlineBackend._config_changed has adopted the new @observe(change) API\n",
      "  clsname, change_or_name), DeprecationWarning)\n",
      "/Library/Python/2.7/site-packages/IPython/core/formatters.py:98: DeprecationWarning: DisplayFormatter._formatters_default is deprecated: use @default decorator instead.\n",
      "  def _formatters_default(self):\n",
      "/Library/Python/2.7/site-packages/IPython/core/formatters.py:677: DeprecationWarning: PlainTextFormatter._deferred_printers_default is deprecated: use @default decorator instead.\n",
      "  def _deferred_printers_default(self):\n",
      "/Library/Python/2.7/site-packages/IPython/core/formatters.py:669: DeprecationWarning: PlainTextFormatter._singleton_printers_default is deprecated: use @default decorator instead.\n",
      "  def _singleton_printers_default(self):\n",
      "/Library/Python/2.7/site-packages/IPython/core/formatters.py:672: DeprecationWarning: PlainTextFormatter._type_printers_default is deprecated: use @default decorator instead.\n",
      "  def _type_printers_default(self):\n"
     ]
    },
    {
     "name": "stdout",
     "output_type": "stream",
     "text": [
      "Load data...\n",
      "Start training...\n",
      "[10]\ttraining's l2: 0.502292\ttraining's l1: 0.468727\tvalid_1's l2: 0.50787\tvalid_1's l1: 0.472408\n",
      "[20]\ttraining's l2: 0.457516\ttraining's l1: 0.4402\tvalid_1's l2: 0.456708\tvalid_1's l1: 0.438702\n",
      "[30]\ttraining's l2: 0.445064\ttraining's l1: 0.423063\tvalid_1's l2: 0.440541\tvalid_1's l1: 0.419234\n",
      "[40]\ttraining's l2: 0.439241\ttraining's l1: 0.411736\tvalid_1's l2: 0.432835\tvalid_1's l1: 0.406922\n",
      "[50]\ttraining's l2: 0.435594\ttraining's l1: 0.40439\tvalid_1's l2: 0.429046\tvalid_1's l1: 0.400248\n",
      "[60]\ttraining's l2: 0.432508\ttraining's l1: 0.398102\tvalid_1's l2: 0.42435\tvalid_1's l1: 0.392755\n",
      "[70]\ttraining's l2: 0.429998\ttraining's l1: 0.393906\tvalid_1's l2: 0.421173\tvalid_1's l1: 0.387568\n",
      "[80]\ttraining's l2: 0.42804\ttraining's l1: 0.390179\tvalid_1's l2: 0.419719\tvalid_1's l1: 0.384377\n",
      "[90]\ttraining's l2: 0.42618\ttraining's l1: 0.386928\tvalid_1's l2: 0.417908\tvalid_1's l1: 0.381355\n",
      "[100]\ttraining's l2: 0.424344\ttraining's l1: 0.384206\tvalid_1's l2: 0.416937\tvalid_1's l1: 0.379434\n",
      "Plot metrics during training...\n"
     ]
    },
    {
     "name": "stderr",
     "output_type": "stream",
     "text": [
      "/Library/Python/2.7/site-packages/IPython/core/formatters.py:92: DeprecationWarning: DisplayFormatter._ipython_display_formatter_default is deprecated: use @default decorator instead.\n",
      "  def _ipython_display_formatter_default(self):\n"
     ]
    },
    {
     "data": {
      "image/png": "[encoded data removed]",
      "text/plain": [
       "<matplotlib.figure.Figure at 0x1155bef90>"
      ]
     },
     "metadata": {},
     "output_type": "display_data"
    },
    {
     "name": "stdout",
     "output_type": "stream",
     "text": [
      "Plot feature importances...\n"
     ]
    },
    {
     "data": {
      "image/png": "[encoded data removed]",
      "text/plain": [
       "<matplotlib.figure.Figure at 0x115b7a190>"
      ]
     },
     "metadata": {},
     "output_type": "display_data"
    }
   ],
   "source": [
    "# coding: utf-8\n",
    "# pylint: disable = invalid-name, C0111\n",
    "%matplotlib inline\n",
    "import sys\n",
    "import lightgbm as lgb\n",
    "import pandas as pd\n",
    "\n",
    "try:\n",
    "    import matplotlib.pyplot as plt\n",
    "except ImportError:\n",
    "    raise ImportError('You need to install matplotlib for plot_example.py.')\n",
    "\n",
    "# load or create your dataset\n",
    "print('Load data...')\n",
    "df_train = pd.read_csv('data/regression.train', header=None, sep='\\t')\n",
    "df_test = pd.read_csv('data/regression.test', header=None, sep='\\t')\n",
    "\n",
    "y_train = df_train[0]\n",
    "X_train = df_train.drop(0, axis=1)\n",
    "y_test = df_test[0]\n",
    "X_test = df_test.drop(0, axis=1)\n",
    "\n",
    "# create dataset for lightgbm\n",
    "lgb_train = lgb.Dataset(X_train, y_train)\n",
    "lgb_test = lgb.Dataset(X_test, y_test, reference=lgb_train)\n",
    "\n",
    "# specify your configurations as a dict\n",
    "params = {\n",
    "    'num_leaves': 5,\n",
    "    'metric': ('l1', 'l2'),\n",
    "    'verbose': 0\n",
    "}\n",
    "\n",
    "evals_result = {}  # to record eval results for plotting\n",
    "\n",
    "print('Start training...')\n",
    "# train\n",
    "gbm = lgb.train(params,\n",
    "                lgb_train,\n",
    "                num_boost_round=100,\n",
    "                valid_sets=[lgb_train, lgb_test],\n",
    "                feature_name=['f' + str(i + 1) for i in range(28)],\n",
    "                categorical_feature=[21],\n",
    "                evals_result=evals_result,\n",
    "                verbose_eval=10)\n",
    "\n",
    "print('Plot metrics during training...')\n",
    "ax = lgb.plot_metric(evals_result, metric='l1')\n",
    "plt.show()\n",
    "\n",
    "print('Plot feature importances...')\n",
    "ax = lgb.plot_importance(gbm, max_num_features=10)\n",
    "plt.show()\n",
    "\n",
    "#print('Plot 84th tree...')  # one tree use categorical feature to split\n",
    "#ax = lgb.plot_tree(gbm, tree_index=83, figsize=(20, 8), show_info=['split_gain'])\n",
    "#plt.show()"
   ]
  }
 ],
 "metadata": {
  "kernelspec": {
   "display_name": "Python 2",
   "language": "python",
   "name": "python2"
  },
  "language_info": {
   "codemirror_mode": {
    "name": "ipython",
    "version": 2
   },
   "file_extension": ".py",
   "mimetype": "text/x-python",
   "name": "python",
   "nbconvert_exporter": "python",
   "pygments_lexer": "ipython2",
   "version": "2.7.10"
  }
 },
 "nbformat": 4,
 "nbformat_minor": 0
}
