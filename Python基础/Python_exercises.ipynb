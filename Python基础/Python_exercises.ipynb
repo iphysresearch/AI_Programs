{
 "cells": [
  {
   "cell_type": "markdown",
   "metadata": {},
   "source": [
    "## 第一课Python作业"
   ]
  },
  {
   "cell_type": "markdown",
   "metadata": {},
   "source": [
    "### 1.\t任意定义三个数(有整型和浮点型)，通过比较判断，输出其最大者。"
   ]
  },
  {
   "cell_type": "code",
   "execution_count": 9,
   "metadata": {
    "collapsed": false
   },
   "outputs": [],
   "source": [
    "# Method 1\n",
    "def ex11(a,b,c):\n",
    "    if a <= b:\n",
    "        larger = b\n",
    "        if larger >= c :\n",
    "            print(larger)\n",
    "        else:\n",
    "            print(c)\n",
    "    else:\n",
    "        larger = a\n",
    "        if larger >= c :\n",
    "            print(larger)\n",
    "        else:\n",
    "            print(c)\n",
    "# Method 2\n",
    "def ex12(a,b,c):\n",
    "    if a <= b and b >= c: # 若最大值可有b输出\n",
    "        print(b)\n",
    "    elif a <= c and b <= c: # 若最大值可有c输出\n",
    "        print(c)\n",
    "    else:                    # 其他可能性由a输出\n",
    "        print(a)"
   ]
  },
  {
   "cell_type": "code",
   "execution_count": 11,
   "metadata": {
    "collapsed": false
   },
   "outputs": [
    {
     "name": "stdout",
     "output_type": "stream",
     "text": [
      "10\n",
      "9.2\n"
     ]
    }
   ],
   "source": [
    "ex11(9,10,9)\n",
    "ex12(8,9.2,9.2)"
   ]
  },
  {
   "cell_type": "markdown",
   "metadata": {},
   "source": [
    "### 2.改写上道题，写一个函数，输出三个输入值的最大值"
   ]
  },
  {
   "cell_type": "code",
   "execution_count": 12,
   "metadata": {
    "collapsed": true
   },
   "outputs": [],
   "source": [
    "def MaxNum(a,b,c):\n",
    "    if a <= b and b >= c: # 若最大值可有b输出\n",
    "        larger = b\n",
    "    elif a <= c and b <= c: # 若最大值可有c输出\n",
    "        larger = c\n",
    "    else:                    # 其他可能性由a输出\n",
    "        larger = a\n",
    "    return larger"
   ]
  },
  {
   "cell_type": "code",
   "execution_count": 13,
   "metadata": {
    "collapsed": false
   },
   "outputs": [
    {
     "data": {
      "text/plain": [
       "9"
      ]
     },
     "execution_count": 13,
     "metadata": {},
     "output_type": "execute_result"
    }
   ],
   "source": [
    "MaxNum(10/2, 9, 8.2)"
   ]
  },
  {
   "cell_type": "markdown",
   "metadata": {},
   "source": [
    "### 3.1 用list comprehension生成1-20000之间所有能被3整除不能被5整除的数"
   ]
  },
  {
   "cell_type": "code",
   "execution_count": 15,
   "metadata": {
    "collapsed": false
   },
   "outputs": [
    {
     "name": "stdout",
     "output_type": "stream",
     "text": [
      "5333\n",
      "19998\n"
     ]
    }
   ],
   "source": [
    "list_compreh = [ elem + 1 for elem in range(20000) if (elem + 1)%3 == 0 and (elem + 1)%5 != 0 ]\n",
    "#list_compreh\n",
    "print(len(list_compreh))\n",
    "print(list_compreh[-1]) # 最大的那个"
   ]
  },
  {
   "cell_type": "markdown",
   "metadata": {},
   "source": [
    "### 3.2 练习切片，取出上述列表中前10个数，最后5个数，下标为偶数的数，并把列表逆序"
   ]
  },
  {
   "cell_type": "code",
   "execution_count": 20,
   "metadata": {
    "collapsed": false
   },
   "outputs": [
    {
     "name": "stdout",
     "output_type": "stream",
     "text": [
      "前10个数的逆序的列表:[36, 33, 27, 24, 21, 18, 12, 9, 6, 3]\n",
      "最后5个数的逆序的列表:[19992, 19989, 19986, 19983, 19977]\n",
      "2667\n",
      "2667\n"
     ]
    }
   ],
   "source": [
    "# list_object = [elem for elem in list_compreh]\n",
    "print('前10个数的逆序的列表:' + str(sorted(list_compreh[0:10] , reverse = True ))) #list_compreh 的前10个数 的逆序的列表\n",
    "print('最后5个数的逆序的列表:'+ str(sorted(list_compreh[-6:-1] , reverse = True ))) #list_compreh 的最后5个数 的逆序的列表\n",
    "\n",
    "# Method 1 list_compreh 的下标为偶数 的逆序的列表\n",
    "index1 = 0\n",
    "list_even1 = []\n",
    "while index1*2 <= len(list_compreh):\n",
    "    list_even1.append(list_compreh[index1*2])\n",
    "    index1 += 1\n",
    "#print('下标为偶数的逆序的列表(method.1): ' + str(sorted(list_even1 , reverse = True )))\n",
    "print(len(list_even1))\n",
    "\n",
    "# Method 2 list_compreh 的下标为偶数 的逆序的列表\n",
    "index2 = 0 \n",
    "list_even2 = []\n",
    "for elem in list_compreh:\n",
    "    if list_compreh.index(elem)%2 == 0:\n",
    "        list_even2.append(elem)\n",
    "        index2 += 1\n",
    "#print('下标为偶数的逆序的列表(method.2): ' + str(sorted(list_even2 , reverse = True )))\n",
    "print(len(list_even2))"
   ]
  },
  {
   "cell_type": "markdown",
   "metadata": {},
   "source": [
    "### 4.定义一个函数，完成一个小任务：对于给定的银行定期利率(输入)，计算多少年后可以连本带息翻番"
   ]
  },
  {
   "cell_type": "code",
   "execution_count": 33,
   "metadata": {
    "collapsed": false
   },
   "outputs": [
    {
     "name": "stdout",
     "output_type": "stream",
     "text": [
      "银行定期年率:0.01\n",
      "70年后,连本带息翻一番\n"
     ]
    }
   ],
   "source": [
    "def Year(a):\n",
    "    money = 10\n",
    "    lst = [1]              # 年数的list,不用list命名是为了避免和list函数冲突\n",
    "    for year in lst:                # 从赋值year为1开始循环\n",
    "        money = money +money*a\n",
    "        if money//10 == 2:\n",
    "            break\n",
    "        year += 1\n",
    "        lst.append(year)              # list后增加一个元素,表示下一个元素是第几年了\n",
    "    return year\n",
    "\n",
    "a = float(input('银行定期年率:'))\n",
    "print('%d年后,连本带息翻一番' %Year(a))\n",
    "\n",
    "# please try 0.01"
   ]
  },
  {
   "cell_type": "markdown",
   "metadata": {},
   "source": [
    "### 5.一个数如果恰好等于它的因子之和，这个数就称为“完数”。例如，6的因子为1、2、3，而6=1+2+3，因此6是完数。编程，找出10000之内的所有完数，并输出该完数及对应的因子。"
   ]
  },
  {
   "cell_type": "code",
   "execution_count": 34,
   "metadata": {
    "collapsed": false
   },
   "outputs": [
    {
     "data": {
      "text/plain": [
       "{6: [1, 2, 3],\n",
       " 28: [1, 2, 4, 7, 14],\n",
       " 496: [1, 2, 4, 8, 16, 31, 62, 124, 248],\n",
       " 8128: [1, 2, 4, 8, 16, 32, 64, 127, 254, 508, 1016, 2032, 4064]}"
      ]
     },
     "execution_count": 34,
     "metadata": {},
     "output_type": "execute_result"
    }
   ],
   "source": [
    "def perfectNUMin(a):                             # 参数a表示,找出a之内的所有完整数 (a应该大于等于2的整型)\n",
    "    data = range(1,a)                         # list出a之内的所有自然数\n",
    "    Perf = dict()                                 # 定义空的dict,作为输出\n",
    "    for elem in data:            # 在所有被考虑的对象中循环,去除1\n",
    "        factors = list()             # 定义空的list,装某对象的约数\n",
    "        for factor in data:          # 让被测因子在所有被考虑的某对象中循环\n",
    "            if factor < elem and elem%factor==0:    # 限制因子的范围(不包含某对象自身),并取能整除某对象的因子们, 赋值到list里\n",
    "                factors.append(factor)\n",
    "                factor += 1\n",
    "        Perf[elem] = factors         # 将该装满因子的list, 赋值到该对象的值中\n",
    "\n",
    "    for elem in data:            # 在所有被考虑的对象中循环\n",
    "        sm = 0\n",
    "        prod = 1\n",
    "        for factor in Perf[elem]:          # 对某对象中的所有因子求和\n",
    "            sm += factor\n",
    "        if sm != elem:                    # 去掉求和结果不等于某对象的\n",
    "            del Perf[elem]\n",
    "    return Perf\n",
    "######################### 函数运行需要一点时间 ##############################################\n",
    "perfectNUMin(10000)"
   ]
  },
  {
   "cell_type": "markdown",
   "metadata": {},
   "source": [
    "### 6.摘录网页HTML源码，粘贴到input.txt，统计其中英文字母、空格、数字和其他字符的个数并输出。"
   ]
  },
  {
   "cell_type": "markdown",
   "metadata": {},
   "source": [
    ">From: http://m.jb51.net/article/24386.htm\n",
    "\n",
    ">可以使用 repr()函数查看字串的原始格式。这对于写正则表达式有所帮助。\n",
    "\n",
    ">Python 的 re模块有两个相似的函数：re.match(), re.search 。两个函数的匹配过程完全一致，只是起点不同。match只从字串的开始位置进行匹配，如果失败，它就此放弃；而search则会锲而不舍地完全遍历整个字串中所有可能的位置，直到成功地找到一个匹配，或者搜索完字串，以失败告终。如果你了解match的特性（在某些情况下比较快），大可以自由用它；如果不太清楚，search通常是你需要的那个函数。 \n",
    "\n",
    ">从一堆文本中，找出所有可能的匹配，以列表的形式返回，这种情况用findall()这个函数。例子见后面的代码。 \n",
    "\n",
    ">utf8下，每个汉字占据3个字符位置，正则式为[\\x80-\\xff]{3}，这个都知道了吧。 \n",
    "\n",
    ">unicode下，汉字的格式如\\uXXXX，只要找到对应的字符集的范围，就能匹配相应的字串，方便从多语言文本中挑出所需要的某种语言的文本。不过，对于像日文这样的粘着语，既有中文字符，又有平假名片假名，或许结果会有所偏差。 \n",
    "\n",
    ">两种字符类可以并列在一起使用，例如，平假名、片假名、中文的放在一起，u\"[\\u4e00-\\u9fa5\\u3040-\\u309f\\u30a0-\\u30ff]+\"，来自定义所需要匹配的文本。 \n",
    "\n",
    ">匹配中文时，正则表达式和目标字串的格式必须相同。这一点至关重要。或者都用默认的utf8，此时你不用额外做什么；如果是unicode，就需要在正则式之前加上u\"\"格式。 \n",
    "\n",
    ">可以这样定义unicode字符串：string=u\"我爱正则表达式\"。如果字串不是unicode的，可以使用unicode()函数转换之。如果你知道源字串的编码，可以使用newstr=unicode(oldstring, original_coding_name)的方式转换，例如 linux 下常用unicode(string, \"utf8\")，windows 下或许会用cp936吧，没测试。\n",
    "\n",
    "---\n",
    "其他干货: \n",
    ">正则指引读书笔记: http://www.pythoner.com/19.html\n",
    "\n",
    ">关于unicode汉字范围正则的写法: http://ju.outofmemory.cn/entry/53571\n",
    "\n",
    ">python实现统计汉字／英文单词数的正则表达式: http://www.jb51.net/article/31229.htm\n",
    "\n",
    ">python-正则表达式: http://www.cnblogs.com/zhangyuxin/p/6279109.html"
   ]
  },
  {
   "cell_type": "code",
   "execution_count": 40,
   "metadata": {
    "collapsed": false
   },
   "outputs": [
    {
     "ename": "SyntaxError",
     "evalue": "invalid syntax (<ipython-input-40-7476d55bf900>, line 18)",
     "output_type": "error",
     "traceback": [
      "\u001b[0;36m  File \u001b[0;32m\"<ipython-input-40-7476d55bf900>\"\u001b[0;36m, line \u001b[0;32m18\u001b[0m\n\u001b[0;31m    satic['Chinese'] = len(re.findall(ur'[\\u4e00-\\u9fa5]', all_the_text.decode('utf8')))\u001b[0m\n\u001b[0m                                                        ^\u001b[0m\n\u001b[0;31mSyntaxError\u001b[0m\u001b[0;31m:\u001b[0m invalid syntax\n"
     ]
    }
   ],
   "source": [
    "import re\n",
    "file_object = open('HTML.txt','r')\n",
    "\n",
    "try:\n",
    "    all_the_text = file_object.read()\n",
    "    \n",
    "    # 匹配中文时，正则表达式规则和目标字串的编码格式必须相同\n",
    "    # 确定系统默认编码\n",
    "    import sys\n",
    "    print(sys.getdefaultencoding())\n",
    "    # ascii\n",
    "        \n",
    "    # 判断字符类型是否unicode\n",
    "    print(isinstance(all_the_text,unicode))\n",
    "    \n",
    "    satic = dict()\n",
    "    satic['Word'] = len(re.findall(r'[a-zA-Z]', all_the_text))\n",
    "    satic['Chinese'] = len(re.findall(ur'[\\u4e00-\\u9fa5]', all_the_text.decode('utf8')))\n",
    "    satic['、'] = len(re.findall(ur'、', all_the_text.decode('utf8')))\n",
    "    satic['Number'] = len(re.findall(r'\\d', all_the_text))\n",
    "    satic['Space'] = len(re.findall(r' ', all_the_text))\n",
    "    satic['Enter'] = len(re.findall(r'\\r', all_the_text))\n",
    "    satic['Line feed'] = len(re.findall(r'\\n', all_the_text))\n",
    "    satic['Tabs'] = len(re.findall(r'\\s', all_the_text))\n",
    "    satic['Blank lines'] = len(re.findall(r'\\n\\s*\\r', all_the_text))\n",
    "\n",
    "    satic[','] = len(re.findall(r',', all_the_text))   # 没有正确统计\n",
    "    satic['.'] = len(re.findall(r'\\.', all_the_text))\n",
    "    satic['/'] = len(re.findall(r'/', all_the_text))\n",
    "    satic['<'] = len(re.findall(r'<', all_the_text))\n",
    "    satic['>'] = len(re.findall(r'>', all_the_text))\n",
    "    satic['?'] = len(re.findall(r'\\?', all_the_text))\n",
    "    \n",
    "    satic[':'] = len(re.findall(r':', all_the_text))\n",
    "    satic[';'] = len(re.findall(r';', all_the_text))    \n",
    "    satic['\\''] = len(re.findall(r'\\'', all_the_text))\n",
    "    satic['\\\"'] = len(re.findall(r'\\\"', all_the_text))\n",
    "    \n",
    "    satic['['] = len(re.findall(r'\\[', all_the_text))\n",
    "    satic[']'] = len(re.findall(r'\\]', all_the_text))\n",
    "    satic['{'] = len(re.findall(r'\\{', all_the_text))\n",
    "    satic['}'] = len(re.findall(r'\\}', all_the_text))    \n",
    "\n",
    "    satic['`'] = len(re.findall(r'`', all_the_text))\n",
    "    satic['~'] = len(re.findall(r'~', all_the_text))\n",
    "    \n",
    "    satic['\\\\'] = len(re.findall(r'\\\\', all_the_text))  # 没有显示清楚\n",
    "    satic['|'] = len(re.findall(r'\\|', all_the_text))\n",
    "    \n",
    "    satic['+'] = len(re.findall(r'\\+', all_the_text))\n",
    "    satic['='] = len(re.findall(r'=', all_the_text))    \n",
    "\n",
    "    satic['-'] = len(re.findall(r'\\-', all_the_text))\n",
    "    satic['_'] = len(re.findall(r'_', all_the_text))\n",
    "    \n",
    "    satic[')'] = len(re.findall(r'\\)', all_the_text))\n",
    "    satic['('] = len(re.findall(r'\\(', all_the_text))\n",
    "    satic['*'] = len(re.findall(r'\\*', all_the_text))\n",
    "    satic['&'] = len(re.findall(r'&', all_the_text))\n",
    "    satic['^'] = len(re.findall(r'\\^', all_the_text))\n",
    "    satic['%'] = len(re.findall(r'%', all_the_text))\n",
    "    satic['$'] = len(re.findall(r'\\$', all_the_text))\n",
    "    satic['#'] = len(re.findall(r'#', all_the_text))\n",
    "    satic['@'] = len(re.findall(r'@', all_the_text))\n",
    "    satic['!'] = len(re.findall(r'!', all_the_text))\n",
    "    \n",
    "    print(satic)\n",
    "    print(len(satic))\n",
    "finally:\n",
    "    file_object.close()"
   ]
  },
  {
   "cell_type": "markdown",
   "metadata": {},
   "source": [
    "### 7.在网上摘录一段英文文本(尽量长一些)，粘贴到input.txt，统计其中每个单词的词频(出现的次数)，并按照词频的顺序写入out.txt文件，每一行的内容为“单词:频次”"
   ]
  },
  {
   "cell_type": "code",
   "execution_count": 46,
   "metadata": {
    "collapsed": false
   },
   "outputs": [
    {
     "name": "stdout",
     "output_type": "stream",
     "text": [
      "utf-8\n"
     ]
    },
    {
     "ename": "NameError",
     "evalue": "name 'unicode' is not defined",
     "output_type": "error",
     "traceback": [
      "\u001b[0;31m---------------------------------------------------------------------------\u001b[0m",
      "\u001b[0;31mNameError\u001b[0m                                 Traceback (most recent call last)",
      "\u001b[0;32m<ipython-input-46-cedc80dc9fe3>\u001b[0m in \u001b[0;36m<module>\u001b[0;34m()\u001b[0m\n\u001b[1;32m     12\u001b[0m \u001b[0;34m\u001b[0m\u001b[0m\n\u001b[1;32m     13\u001b[0m     \u001b[0;31m# 判断字符类型是否unicode\u001b[0m\u001b[0;34m\u001b[0m\u001b[0;34m\u001b[0m\u001b[0m\n\u001b[0;32m---> 14\u001b[0;31m     \u001b[0mprint\u001b[0m\u001b[0;34m(\u001b[0m\u001b[0misinstance\u001b[0m\u001b[0;34m(\u001b[0m\u001b[0mall_the_text\u001b[0m\u001b[0;34m,\u001b[0m \u001b[0municode\u001b[0m\u001b[0;34m)\u001b[0m\u001b[0;34m)\u001b[0m\u001b[0;34m\u001b[0m\u001b[0m\n\u001b[0m\u001b[1;32m     15\u001b[0m \u001b[0;34m\u001b[0m\u001b[0m\n\u001b[1;32m     16\u001b[0m     \u001b[0msatic\u001b[0m \u001b[0;34m=\u001b[0m \u001b[0mdict\u001b[0m\u001b[0;34m(\u001b[0m\u001b[0;34m)\u001b[0m\u001b[0;34m\u001b[0m\u001b[0m\n",
      "\u001b[0;31mNameError\u001b[0m: name 'unicode' is not defined"
     ]
    }
   ],
   "source": [
    "import re\n",
    "file_object = open('input.txt','r') \n",
    "\n",
    "try:\n",
    "    all_the_text = file_object.read()\n",
    "    \n",
    "    # 匹配中文时，正则表达式规则和目标字串的编码格式必须相同\n",
    "    # 确定系统默认编码\n",
    "    import sys\n",
    "    print(sys.getdefaultencoding())\n",
    "    # ascii\n",
    "    \n",
    "    # 判断字符类型是否unicode\n",
    "    print(isinstance(all_the_text, unicode))\n",
    "        \n",
    "    satic = dict()\n",
    "    satic['Word'] = len(re.findall(r'[\\w\\-]+(\\')*', all_the_text))\n",
    "    \n",
    "    print(satic)\n",
    "    print(len(satic))\n",
    "finally:\n",
    "    file_object.close()"
   ]
  },
  {
   "cell_type": "markdown",
   "metadata": {},
   "source": [
    "### 8. 王同学希望用电脑记录他每天掌握的英文单词。请设计程序和相应的数据结构，使小王能记录新学的英文单词和其中文翻译，并能很方便地根据英文来查找中文。实现一个类，能完成功能：1.背单词(添加单词)  2.查单词(根据单词进行翻译) 3.修改单词含义 4.统计历届四六级试卷，查找高频词，按照高频词排序"
   ]
  },
  {
   "cell_type": "code",
   "execution_count": null,
   "metadata": {
    "collapsed": true
   },
   "outputs": [],
   "source": []
  },
  {
   "cell_type": "markdown",
   "metadata": {},
   "source": [
    "### 9.写一个函数接收两个整数，并输出相加结果。但如果输入的不是整数（如字母、浮点数等），程序就会终止执行并输出异常信息(异常处理)。请对程序进行修改，要求输入非整数时，给出“输入内容必须为整数！”的提示，并提示用户重新输入，直至输入正确。"
   ]
  },
  {
   "cell_type": "code",
   "execution_count": null,
   "metadata": {
    "collapsed": false
   },
   "outputs": [],
   "source": []
  },
  {
   "cell_type": "markdown",
   "metadata": {},
   "source": [
    "### 10.请输入一个文件路径名或文件名，查看该文件是否存在，如存在，打开文件并在屏幕上输出该文件内容；如不存在，显示“输入的文件未找到！”并要求重新输入；如文件存在但在读文件过程中发生异常，则显示“文件无法正常读出！”并要求重新输入。（提示：请使用异常处理。“文件未找到”对应的异常名为：FileNotFoundError，其他异常直接用except匹配）\n"
   ]
  },
  {
   "cell_type": "code",
   "execution_count": null,
   "metadata": {
    "collapsed": true
   },
   "outputs": [],
   "source": []
  },
  {
   "cell_type": "markdown",
   "metadata": {},
   "source": [
    "### 11.找一本英文小说(转为txt格式)，把其中所有的代词(I, you, he, she, it, we, you, they, me, you, him, her, it, us, you, them)都替换成**"
   ]
  },
  {
   "cell_type": "code",
   "execution_count": null,
   "metadata": {
    "collapsed": true
   },
   "outputs": [],
   "source": []
  },
  {
   "cell_type": "markdown",
   "metadata": {},
   "source": [
    "### 12.找出文件夹下所有文件名格式为output_YYYY.MM.DD.txt(output_2016.10.21.txt)的文件 。读取文件名中的日期时间信息，并找出这一天是周几。将文件改名为output_YYYY-MM-DD-W.txt (YYYY:四位的年，MM：两位的月份，DD：两位的日，W：一位的周几，并假设周一为一周第一天)"
   ]
  },
  {
   "cell_type": "code",
   "execution_count": null,
   "metadata": {
    "collapsed": true
   },
   "outputs": [],
   "source": []
  }
 ],
 "metadata": {
  "kernelspec": {
   "display_name": "Python 3",
   "language": "python",
   "name": "python3"
  },
  "language_info": {
   "codemirror_mode": {
    "name": "ipython",
    "version": 3
   },
   "file_extension": ".py",
   "mimetype": "text/x-python",
   "name": "python",
   "nbconvert_exporter": "python",
   "pygments_lexer": "ipython3",
   "version": "3.5.1"
  }
 },
 "nbformat": 4,
 "nbformat_minor": 0
}
