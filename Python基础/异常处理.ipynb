{
 "cells": [
  {
   "cell_type": "markdown",
   "metadata": {},
   "source": [
    "## Python异常处理"
   ]
  },
  {
   "cell_type": "markdown",
   "metadata": {},
   "source": [
    "我们在用python完成任务的时候，如果遇到一些错误，代码就可能会停止执行（比如for循环处理文件，某一行有问题），这是我们不希望的，所以python和其他语言一样，也有异常处理机制。"
   ]
  },
  {
   "cell_type": "markdown",
   "metadata": {},
   "source": [
    "### python2.x捕获异常语法"
   ]
  },
  {
   "cell_type": "code",
   "execution_count": null,
   "metadata": {
    "collapsed": true
   },
   "outputs": [],
   "source": [
    "try:\n",
    "    #...执行任务...\n",
    "except Exception, e:\n",
    "    print(e)"
   ]
  },
  {
   "cell_type": "markdown",
   "metadata": {},
   "source": [
    "### python3.x捕获异常语法"
   ]
  },
  {
   "cell_type": "code",
   "execution_count": null,
   "metadata": {
    "collapsed": true
   },
   "outputs": [],
   "source": [
    "try:\n",
    "    #...执行任务...\n",
    "except Exception as e:\n",
    "    print(e)"
   ]
  },
  {
   "cell_type": "markdown",
   "metadata": {},
   "source": [
    "### 简单的例子"
   ]
  },
  {
   "cell_type": "code",
   "execution_count": 1,
   "metadata": {
    "collapsed": false
   },
   "outputs": [
    {
     "name": "stdout",
     "output_type": "stream",
     "text": [
      "除法结果是：15\n",
      "除法结果是：7\n",
      "除法结果是：5\n",
      "除法结果是：3\n",
      "integer division or modulo by zero\n",
      "除法结果是：2\n",
      "integer division or modulo by zero\n",
      "除法结果是：1\n"
     ]
    }
   ],
   "source": [
    "#测试的list\n",
    "tmp_list = [1,2,3,4,0,6,0,9]\n",
    "\n",
    "#定义除法\n",
    "def divide_num(num_a, num_b):\n",
    "    try:\n",
    "        result = num_a/num_b\n",
    "        print \"除法结果是：\"+ str(result)\n",
    "    except Exception, e:\n",
    "        print e\n",
    "\n",
    "num = 15\n",
    "for tmp in tmp_list:\n",
    "    divide_num(num, tmp)"
   ]
  },
  {
   "cell_type": "markdown",
   "metadata": {},
   "source": [
    "### 常见的Exception"
   ]
  },
  {
   "cell_type": "markdown",
   "metadata": {},
   "source": [
    "#### 1. NameError：尝试访问一个未申明的变量"
   ]
  },
  {
   "cell_type": "code",
   "execution_count": null,
   "metadata": {
    "collapsed": true
   },
   "outputs": [],
   "source": [
    ">>> v\n",
    "NameError: name 'v' is not defined"
   ]
  },
  {
   "cell_type": "markdown",
   "metadata": {},
   "source": [
    "#### 2. ZeroDivisionError：除数为0"
   ]
  },
  {
   "cell_type": "code",
   "execution_count": null,
   "metadata": {
    "collapsed": true
   },
   "outputs": [],
   "source": [
    ">>> v = 1/0\n",
    "ZeroDivisionError: int division or modulo by zero"
   ]
  },
  {
   "cell_type": "markdown",
   "metadata": {},
   "source": [
    "#### 3. SyntaxError：语法错误"
   ]
  },
  {
   "cell_type": "code",
   "execution_count": null,
   "metadata": {
    "collapsed": true
   },
   "outputs": [],
   "source": [
    "int int\n",
    "SyntaxError: invalid syntax (<pyshell#14>, line 1)"
   ]
  },
  {
   "cell_type": "markdown",
   "metadata": {},
   "source": [
    "#### 4. IndexError：索引超出范围"
   ]
  },
  {
   "cell_type": "code",
   "execution_count": null,
   "metadata": {
    "collapsed": true
   },
   "outputs": [],
   "source": [
    "List = [2]\n",
    ">>> List[3]\n",
    "Traceback (most recent call last):\n",
    "  File \"<pyshell#18>\", line 1, in <module>\n",
    "    List[3]\n",
    "IndexError: list index out of range"
   ]
  },
  {
   "cell_type": "markdown",
   "metadata": {},
   "source": [
    "#### 5. KeyError：字典关键字不存在"
   ]
  },
  {
   "cell_type": "code",
   "execution_count": null,
   "metadata": {
    "collapsed": true
   },
   "outputs": [],
   "source": [
    "Dic = {'1':'yes', '2':'no'}\n",
    ">>> Dic['3']\n",
    "Traceback (most recent call last):\n",
    "  File \"<pyshell#20>\", line 1, in <module>\n",
    "    Dic['3']\n",
    "KeyError: '3'"
   ]
  },
  {
   "cell_type": "markdown",
   "metadata": {},
   "source": [
    "#### 6. IOError：输入输出错误"
   ]
  },
  {
   "cell_type": "code",
   "execution_count": null,
   "metadata": {
    "collapsed": true
   },
   "outputs": [],
   "source": [
    ">>> f = open('abc')\n",
    "IOError: [Errno 2] No such file or directory: 'abc'"
   ]
  },
  {
   "cell_type": "markdown",
   "metadata": {},
   "source": [
    "#### 7. AttributeError：访问未知对象属性"
   ]
  },
  {
   "cell_type": "code",
   "execution_count": null,
   "metadata": {
    "collapsed": true
   },
   "outputs": [],
   "source": [
    ">>> class Worker:\n",
    " def Work():\n",
    "  print(\"I am working\")\n",
    "\n",
    ">>> w = Worker()\n",
    ">>> w.a\n",
    "Traceback (most recent call last):\n",
    "  File \"<pyshell#51>\", line 1, in <module>\n",
    "    w.a\n",
    "AttributeError: 'Worker' object has no attribute 'a'"
   ]
  },
  {
   "cell_type": "markdown",
   "metadata": {},
   "source": [
    "#### 8.ValueError：数值错误"
   ]
  },
  {
   "cell_type": "code",
   "execution_count": null,
   "metadata": {
    "collapsed": true
   },
   "outputs": [],
   "source": [
    ">>> int('d')\n",
    "Traceback (most recent call last):\n",
    "  File \"<pyshell#54>\", line 1, in <module>\n",
    "    int('d')\n",
    "ValueError: invalid literal for int() with base 10: 'd'"
   ]
  },
  {
   "cell_type": "markdown",
   "metadata": {},
   "source": [
    "#### 9. TypeError：类型错误"
   ]
  },
  {
   "cell_type": "code",
   "execution_count": null,
   "metadata": {
    "collapsed": true
   },
   "outputs": [],
   "source": [
    ">>> iStr = '22'\n",
    ">>> iVal = 22\n",
    ">>> obj = iStr + iVal;\n",
    "Traceback (most recent call last):\n",
    "  File \"<pyshell#68>\", line 1, in <module>\n",
    "    obj = iStr + iVal;\n",
    "TypeError: Can't convert 'int' object to str implicitly"
   ]
  },
  {
   "cell_type": "markdown",
   "metadata": {},
   "source": [
    "#### 10. AssertionError：断言错误"
   ]
  },
  {
   "cell_type": "code",
   "execution_count": null,
   "metadata": {
    "collapsed": true
   },
   "outputs": [],
   "source": [
    ">>> assert 1 != 1\n",
    "Traceback (most recent call last):\n",
    "  File \"<pyshell#70>\", line 1, in <module>\n",
    "    assert 1 != 1\n",
    "AssertionError"
   ]
  },
  {
   "cell_type": "markdown",
   "metadata": {},
   "source": [
    "#### 11.MemoryError:内存耗尽异常"
   ]
  },
  {
   "cell_type": "code",
   "execution_count": null,
   "metadata": {
    "collapsed": true
   },
   "outputs": [],
   "source": []
  }
 ],
 "metadata": {
  "kernelspec": {
   "display_name": "Python 2",
   "language": "python",
   "name": "python2"
  },
  "language_info": {
   "codemirror_mode": {
    "name": "ipython",
    "version": 2
   },
   "file_extension": ".py",
   "mimetype": "text/x-python",
   "name": "python",
   "nbconvert_exporter": "python",
   "pygments_lexer": "ipython2",
   "version": "2.7.10"
  }
 },
 "nbformat": 4,
 "nbformat_minor": 0
}
