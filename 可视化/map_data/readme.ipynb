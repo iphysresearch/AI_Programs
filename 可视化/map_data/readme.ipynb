{
 "cells": [
  {
   "cell_type": "markdown",
   "metadata": {},
   "source": [
    "* map_data数据过大无法上传，放到百度云盘供大家下载和使用\n",
    "* 链接: https://pan.baidu.com/s/1kV0o1MZ 密码: 9tn8\n",
    "* 使用时在visualization_map.ipynb所在的目录建立文件夹map_data，将下载下来的文件解压缩到该文件夹即可\n",
    "## Enjoy"
   ]
  },
  {
   "cell_type": "code",
   "execution_count": null,
   "metadata": {
    "collapsed": true
   },
   "outputs": [],
   "source": []
  }
 ],
 "metadata": {
  "kernelspec": {
   "display_name": "Python 2",
   "language": "python",
   "name": "python2"
  },
  "language_info": {
   "codemirror_mode": {
    "name": "ipython",
    "version": 2
   },
   "file_extension": ".py",
   "mimetype": "text/x-python",
   "name": "python",
   "nbconvert_exporter": "python",
   "pygments_lexer": "ipython2",
   "version": "2.7.6"
  }
 },
 "nbformat": 4,
 "nbformat_minor": 0
}
